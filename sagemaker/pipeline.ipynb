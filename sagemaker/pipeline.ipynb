{
 "cells": [
  {
   "cell_type": "code",
   "execution_count": 2,
   "id": "f6f25825-7ab3-4fe4-9db8-adcf54f6a66e",
   "metadata": {
    "execution": {
     "iopub.execute_input": "2024-07-19T21:57:52.100084Z",
     "iopub.status.busy": "2024-07-19T21:57:52.099680Z",
     "iopub.status.idle": "2024-07-19T21:57:53.456605Z",
     "shell.execute_reply": "2024-07-19T21:57:53.455921Z",
     "shell.execute_reply.started": "2024-07-19T21:57:52.100041Z"
    },
    "tags": []
   },
   "outputs": [
    {
     "name": "stdout",
     "output_type": "stream",
     "text": [
      "sagemaker.config INFO - Not applying SDK defaults from location: /etc/xdg/sagemaker/config.yaml\n",
      "sagemaker.config INFO - Not applying SDK defaults from location: /root/.config/sagemaker/config.yaml\n"
     ]
    }
   ],
   "source": [
    "import warnings\n",
    "import sagemaker\n",
    "import json\n",
    "import boto3\n",
    "import time\n",
    "from sagemaker.model import Model\n",
    "from sagemaker import ModelPackage\n",
    "from sagemaker.sklearn.processing import (\n",
    "    SKLearnProcessor,\n",
    "    ScriptProcessor,\n",
    ")\n",
    "from sagemaker.processing import FrameworkProcessor\n",
    "from sagemaker.sklearn.estimator import SKLearn\n",
    "from sagemaker.processing import ProcessingInput, ProcessingOutput\n",
    "from sagemaker.workflow.properties import PropertyFile\n",
    "from sagemaker.workflow.pipeline_context import PipelineSession\n",
    "from sagemaker.workflow.pipeline_definition_config import PipelineDefinitionConfig\n",
    "from sagemaker.workflow.parameters import (\n",
    "    ParameterInteger,\n",
    "    ParameterString,\n",
    ")\n",
    "from sagemaker.workflow.steps import (\n",
    "    ProcessingStep,\n",
    "    TrainingStep,\n",
    ")\n",
    "from sagemaker.workflow.model_step import ModelStep\n",
    "from sagemaker.model_metrics import MetricsSource, ModelMetrics \n",
    "from sagemaker.workflow.step_collections import RegisterModel\n",
    "from sagemaker.workflow.pipeline import Pipeline\n",
    "from sagemaker.workflow.conditions import ConditionGreaterThanOrEqualTo\n",
    "from sagemaker.workflow.condition_step import ConditionStep\n",
    "from sagemaker.workflow.functions import JsonGet\n",
    "from sagemaker.serializers import JSONSerializer\n",
    "from sagemaker.deserializers import JSONDeserializer\n",
    "from sagemaker.predictor import Predictor"
   ]
  },
  {
   "cell_type": "code",
   "execution_count": 3,
   "id": "6a88a054-138a-479a-9b7a-6c7981da34d4",
   "metadata": {
    "execution": {
     "iopub.execute_input": "2024-07-19T21:57:53.459163Z",
     "iopub.status.busy": "2024-07-19T21:57:53.458633Z",
     "iopub.status.idle": "2024-07-19T21:57:53.464217Z",
     "shell.execute_reply": "2024-07-19T21:57:53.463431Z",
     "shell.execute_reply.started": "2024-07-19T21:57:53.459122Z"
    },
    "tags": []
   },
   "outputs": [],
   "source": [
    "warnings.filterwarnings(action=\"ignore\", category=UserWarning)"
   ]
  },
  {
   "cell_type": "code",
   "execution_count": 4,
   "id": "b9237bb8-216c-4785-b293-d5cb42e323a7",
   "metadata": {
    "execution": {
     "iopub.execute_input": "2024-07-19T21:57:53.465781Z",
     "iopub.status.busy": "2024-07-19T21:57:53.465461Z",
     "iopub.status.idle": "2024-07-19T21:57:54.498720Z",
     "shell.execute_reply": "2024-07-19T21:57:54.497809Z",
     "shell.execute_reply.started": "2024-07-19T21:57:53.465744Z"
    },
    "tags": []
   },
   "outputs": [],
   "source": [
    "role = sagemaker.get_execution_role()\n",
    "sagemaker_session = sagemaker.session.Session()\n",
    "default_bucket = sagemaker_session.default_bucket()\n",
    "region =  boto3.Session().region_name\n",
    "pipeline_session = PipelineSession()"
   ]
  },
  {
   "cell_type": "code",
   "execution_count": 5,
   "id": "64693a04-f993-460e-9366-6c3c52f5a9c0",
   "metadata": {
    "execution": {
     "iopub.execute_input": "2024-07-19T21:57:54.500104Z",
     "iopub.status.busy": "2024-07-19T21:57:54.499783Z",
     "iopub.status.idle": "2024-07-19T21:57:54.507655Z",
     "shell.execute_reply": "2024-07-19T21:57:54.507059Z",
     "shell.execute_reply.started": "2024-07-19T21:57:54.500069Z"
    },
    "tags": []
   },
   "outputs": [],
   "source": [
    "BUCKET_NAME = 'mlops-ucu-2024'\n",
    "DATA_KEY = 'popular_movies.csv'\n",
    "DATASET_PATH = f\"s3://{BUCKET_NAME}/{DATA_KEY}\"\n",
    "ENCODERS_FOLDER = f\"encoders\"\n",
    "TRACKING_SERVER_ARN='arn:aws:sagemaker:eu-north-1:381492095903:mlflow-tracking-server/letterboxd-predictions'\n",
    "EXPERIMENT_NAME = 'letterboxd-predictions-lr'\n",
    "MODEL_PACKAGE_GROUP_NAME = \"LetterboxdRartingPredictions\"\n",
    "MODEL_NAME_PREFIX = \"LLR\"\n",
    "SKLEARN_FRAMEWORK_VERSION='1.2-1'"
   ]
  },
  {
   "cell_type": "markdown",
   "id": "4f7a3b8d-6129-4d83-951b-e1d93ec0639d",
   "metadata": {},
   "source": [
    "#### Define pipeline parameters"
   ]
  },
  {
   "cell_type": "code",
   "execution_count": 6,
   "id": "813138c8-c384-4407-9bdd-fe70475d1686",
   "metadata": {
    "execution": {
     "iopub.execute_input": "2024-07-19T21:57:54.509299Z",
     "iopub.status.busy": "2024-07-19T21:57:54.508956Z",
     "iopub.status.idle": "2024-07-19T21:57:54.622300Z",
     "shell.execute_reply": "2024-07-19T21:57:54.621646Z",
     "shell.execute_reply.started": "2024-07-19T21:57:54.509260Z"
    },
    "tags": []
   },
   "outputs": [],
   "source": [
    "input_data = ParameterString(\n",
    "    name=\"InputData\",\n",
    "    default_value=DATASET_PATH,\n",
    ")\n",
    "\n",
    "processing_instance_count = ParameterInteger(\n",
    "    name=\"ProcessingInstanceCount\",\n",
    "    default_value=1\n",
    ")\n",
    "\n",
    "model_approval_status = ParameterString(\n",
    "    name=\"ModelApprovalStatus\",\n",
    "    default_value=\"Approved\"\n",
    ")\n",
    "\n",
    "encoders_bucket_name = ParameterString(\n",
    "    name=\"EncodersBucketName\",\n",
    "    default_value=BUCKET_NAME,\n",
    ")\n",
    "\n",
    "encoders_folder = ParameterString(\n",
    "    name=\"EncodersFolder\",\n",
    "    default_value=ENCODERS_FOLDER,\n",
    ")\n",
    "\n",
    "mlflow_arn = ParameterString(\n",
    "    name=\"MLFlowTrackingUri\",\n",
    "    default_value=TRACKING_SERVER_ARN,\n",
    ")\n",
    "\n",
    "mlflow_experiment_name = ParameterString(\n",
    "    name=\"MLFlowExperimentName\",\n",
    "    default_value=EXPERIMENT_NAME,\n",
    ")"
   ]
  },
  {
   "cell_type": "markdown",
   "id": "66da6a5c-758b-4a47-8869-d4952122cfdd",
   "metadata": {},
   "source": [
    "### 1. Preprocess step"
   ]
  },
  {
   "cell_type": "code",
   "execution_count": 7,
   "id": "46e33611-ddf9-490a-9f1e-48fe122bd65d",
   "metadata": {
    "execution": {
     "iopub.execute_input": "2024-07-19T21:57:54.625471Z",
     "iopub.status.busy": "2024-07-19T21:57:54.625236Z",
     "iopub.status.idle": "2024-07-19T21:57:54.756336Z",
     "shell.execute_reply": "2024-07-19T21:57:54.755644Z",
     "shell.execute_reply.started": "2024-07-19T21:57:54.625447Z"
    },
    "tags": []
   },
   "outputs": [
    {
     "name": "stderr",
     "output_type": "stream",
     "text": [
      "INFO:sagemaker.image_uris:Defaulting to only available Python version: py3\n"
     ]
    }
   ],
   "source": [
    "sklearn_processor = SKLearnProcessor(\n",
    "    framework_version=SKLEARN_FRAMEWORK_VERSION,\n",
    "    role=role,\n",
    "    instance_type=\"ml.t3.medium\",\n",
    "    instance_count=1,\n",
    "    base_job_name='letterboxd-preprocess',\n",
    "    sagemaker_session=pipeline_session,\n",
    ")"
   ]
  },
  {
   "cell_type": "code",
   "execution_count": 8,
   "id": "9ef02e8c-af24-4ab6-b0b8-6b04ca56a323",
   "metadata": {
    "execution": {
     "iopub.execute_input": "2024-07-19T21:57:54.758242Z",
     "iopub.status.busy": "2024-07-19T21:57:54.757832Z",
     "iopub.status.idle": "2024-07-19T21:57:54.852588Z",
     "shell.execute_reply": "2024-07-19T21:57:54.851896Z",
     "shell.execute_reply.started": "2024-07-19T21:57:54.758161Z"
    },
    "tags": []
   },
   "outputs": [],
   "source": [
    "processor_args = sklearn_processor.run(\n",
    "    code=\"scripts/preprocessing.py\",\n",
    "    inputs=[ProcessingInput(source=input_data, destination=\"/opt/ml/processing/input\")],\n",
    "    outputs=[\n",
    "        ProcessingOutput(output_name=\"train\", source=\"/opt/ml/processing/train\"),\n",
    "        ProcessingOutput(output_name=\"test\", source=\"/opt/ml/processing/test\"),\n",
    "        ProcessingOutput(output_name=\"encoders\", source=\"/opt/ml/processing/encoders\"),\n",
    "    ],\n",
    "    arguments=[\n",
    "        \"--encoders-bucket-name\", encoders_bucket_name,\n",
    "        \"--encoders-folder\", encoders_folder\n",
    "    ]\n",
    ")\n",
    "\n",
    "\n",
    "step_process = ProcessingStep(\n",
    "    name=\"Preprocess\",\n",
    "    step_args=processor_args\n",
    ")"
   ]
  },
  {
   "cell_type": "markdown",
   "id": "06fb088e-2338-4486-8529-8d09c3abcb59",
   "metadata": {},
   "source": [
    "### 2. Training step"
   ]
  },
  {
   "cell_type": "code",
   "execution_count": 9,
   "id": "4175f207-f0a2-41a2-ba31-c37fa76dca9a",
   "metadata": {
    "execution": {
     "iopub.execute_input": "2024-07-19T21:57:54.857311Z",
     "iopub.status.busy": "2024-07-19T21:57:54.856866Z",
     "iopub.status.idle": "2024-07-19T21:57:54.962259Z",
     "shell.execute_reply": "2024-07-19T21:57:54.961562Z",
     "shell.execute_reply.started": "2024-07-19T21:57:54.857284Z"
    },
    "tags": []
   },
   "outputs": [],
   "source": [
    "model_path = f's3://{default_bucket}/LetterboxdTrain'"
   ]
  },
  {
   "cell_type": "code",
   "execution_count": 10,
   "id": "0b9262f8-48f5-46d4-8f46-2d0ae6142877",
   "metadata": {
    "execution": {
     "iopub.execute_input": "2024-07-19T21:57:54.963843Z",
     "iopub.status.busy": "2024-07-19T21:57:54.963344Z",
     "iopub.status.idle": "2024-07-19T21:57:55.342099Z",
     "shell.execute_reply": "2024-07-19T21:57:55.341388Z",
     "shell.execute_reply.started": "2024-07-19T21:57:54.963801Z"
    },
    "tags": []
   },
   "outputs": [],
   "source": [
    "sklearn_estimator = SKLearn(\n",
    "    entry_point=\"scripts/train.py\",\n",
    "    framework_version=SKLEARN_FRAMEWORK_VERSION,\n",
    "    instance_type=\"ml.m5.xlarge\",\n",
    "    role=role,\n",
    "    sagemaker_session=pipeline_session,\n",
    ")"
   ]
  },
  {
   "cell_type": "code",
   "execution_count": 11,
   "id": "63bf477a-c5fe-43e6-9e05-48fd8b0a2531",
   "metadata": {
    "execution": {
     "iopub.execute_input": "2024-07-19T21:57:55.345408Z",
     "iopub.status.busy": "2024-07-19T21:57:55.344587Z",
     "iopub.status.idle": "2024-07-19T21:57:55.364477Z",
     "shell.execute_reply": "2024-07-19T21:57:55.363826Z",
     "shell.execute_reply.started": "2024-07-19T21:57:55.345368Z"
    },
    "tags": []
   },
   "outputs": [],
   "source": [
    "train_args = sklearn_estimator.fit({\"train\": step_process.properties.ProcessingOutputConfig.Outputs[\n",
    "    \"train\"\n",
    "].S3Output.S3Uri})\n",
    "\n",
    "step_train = TrainingStep(\n",
    "    name=\"Training\",\n",
    "    step_args = train_args\n",
    ")"
   ]
  },
  {
   "cell_type": "markdown",
   "id": "1c537cf8-c0a7-4643-b541-6aabc7570336",
   "metadata": {
    "tags": []
   },
   "source": [
    "### 3. Evaluation step"
   ]
  },
  {
   "cell_type": "code",
   "execution_count": 12,
   "id": "99727bba-9984-4e08-8422-925e468b5822",
   "metadata": {
    "execution": {
     "iopub.execute_input": "2024-07-19T21:57:55.367703Z",
     "iopub.status.busy": "2024-07-19T21:57:55.367474Z",
     "iopub.status.idle": "2024-07-19T21:57:55.500107Z",
     "shell.execute_reply": "2024-07-19T21:57:55.499300Z",
     "shell.execute_reply.started": "2024-07-19T21:57:55.367680Z"
    },
    "tags": []
   },
   "outputs": [],
   "source": [
    "est_cls = sagemaker.sklearn.estimator.SKLearn\n",
    "\n",
    "script_processor = FrameworkProcessor(\n",
    "    role=role,\n",
    "    instance_count=1,\n",
    "    instance_type=\"ml.t3.medium\",\n",
    "    estimator_cls=est_cls,\n",
    "    framework_version=SKLEARN_FRAMEWORK_VERSION,\n",
    "    base_job_name='letterboxd-evaluate',\n",
    "    sagemaker_session=pipeline_session,\n",
    "    env={\n",
    "        'MLFLOW_TRACKING_ARN': mlflow_arn,\n",
    "        'MLFLOW_EXPERIMENT_NAME': mlflow_experiment_name,\n",
    "    }\n",
    ")"
   ]
  },
  {
   "cell_type": "code",
   "execution_count": 13,
   "id": "45873e8e-330f-4fb6-b6f4-68ee390f9383",
   "metadata": {
    "execution": {
     "iopub.execute_input": "2024-07-19T21:57:55.501573Z",
     "iopub.status.busy": "2024-07-19T21:57:55.501170Z",
     "iopub.status.idle": "2024-07-19T21:57:55.595517Z",
     "shell.execute_reply": "2024-07-19T21:57:55.594829Z",
     "shell.execute_reply.started": "2024-07-19T21:57:55.501535Z"
    },
    "tags": []
   },
   "outputs": [],
   "source": [
    "evaluation_report = PropertyFile(\n",
    "    name=\"EvaluationReport\",\n",
    "    output_name=\"evaluation\",\n",
    "    path=\"evaluation.json\"\n",
    ")"
   ]
  },
  {
   "cell_type": "code",
   "execution_count": 14,
   "id": "5c223e40-453f-4632-a954-c23d7e38b229",
   "metadata": {
    "execution": {
     "iopub.execute_input": "2024-07-19T21:57:55.600185Z",
     "iopub.status.busy": "2024-07-19T21:57:55.598050Z",
     "iopub.status.idle": "2024-07-19T21:57:55.711846Z",
     "shell.execute_reply": "2024-07-19T21:57:55.711204Z",
     "shell.execute_reply.started": "2024-07-19T21:57:55.600156Z"
    },
    "tags": []
   },
   "outputs": [],
   "source": [
    "eval_args = script_processor.run(\n",
    "    code='evaluation.py',\n",
    "    source_dir='scripts/evaluation',\n",
    "    inputs=[\n",
    "        ProcessingInput(source=step_train.properties.ModelArtifacts.S3ModelArtifacts, destination=\"/opt/ml/processing/model\"),\n",
    "        ProcessingInput(source=step_process.properties.ProcessingOutputConfig.Outputs[\n",
    "                \"test\"\n",
    "            ].S3Output.S3Uri, destination=\"/opt/ml/processing/test\"),\n",
    "        ProcessingInput(source=step_process.properties.ProcessingOutputConfig.Outputs[\n",
    "                \"encoders\"\n",
    "            ].S3Output.S3Uri, destination=\"/opt/ml/processing/encoders\"),\n",
    "    ],\n",
    "    outputs=[ProcessingOutput(output_name=\"evaluation\", source=\"/opt/ml/processing/evaluation\")],\n",
    ")\n",
    "\n",
    "step_eval = ProcessingStep(\n",
    "    name=\"Eval\",\n",
    "    step_args=eval_args,\n",
    "    property_files=[evaluation_report],\n",
    ")"
   ]
  },
  {
   "cell_type": "markdown",
   "id": "4fb55f3c-cb37-48be-b72b-c1de9eea14b2",
   "metadata": {},
   "source": [
    "### 4. Register model"
   ]
  },
  {
   "cell_type": "code",
   "execution_count": 15,
   "id": "ca0fce7e-9542-443e-896a-23519894d813",
   "metadata": {
    "execution": {
     "iopub.execute_input": "2024-07-19T21:57:55.713601Z",
     "iopub.status.busy": "2024-07-19T21:57:55.713260Z",
     "iopub.status.idle": "2024-07-19T21:57:55.830643Z",
     "shell.execute_reply": "2024-07-19T21:57:55.829940Z",
     "shell.execute_reply.started": "2024-07-19T21:57:55.713562Z"
    },
    "tags": []
   },
   "outputs": [],
   "source": [
    "model = Model(\n",
    "    name=MODEL_NAME_PREFIX,\n",
    "    image_uri=sklearn_estimator.training_image_uri(),\n",
    "    model_data=step_train.properties.ModelArtifacts.S3ModelArtifacts,\n",
    "    sagemaker_session=pipeline_session,\n",
    "    role=role,\n",
    "    entry_point='scripts/inference.py',\n",
    ")"
   ]
  },
  {
   "cell_type": "code",
   "execution_count": 16,
   "id": "8890971a-e248-4bd0-87a5-4e298c1b92e4",
   "metadata": {
    "execution": {
     "iopub.execute_input": "2024-07-19T21:57:55.833753Z",
     "iopub.status.busy": "2024-07-19T21:57:55.833509Z",
     "iopub.status.idle": "2024-07-19T21:57:56.239796Z",
     "shell.execute_reply": "2024-07-19T21:57:56.239191Z",
     "shell.execute_reply.started": "2024-07-19T21:57:55.833729Z"
    },
    "tags": []
   },
   "outputs": [
    {
     "name": "stderr",
     "output_type": "stream",
     "text": [
      "INFO:sagemaker.processing:Uploaded scripts/evaluation to s3://sagemaker-eu-north-1-381492095903/letterboxd-evaluate-2024-07-19-21-57-55-937/source/sourcedir.tar.gz\n",
      "INFO:sagemaker.processing:runproc.sh uploaded to s3://sagemaker-eu-north-1-381492095903/letterboxd-evaluate-2024-07-19-21-57-55-937/source/runproc.sh\n",
      "WARNING:sagemaker.workflow.utilities:Popping out 'ProcessingJobName' from the pipeline definition by default since it will be overridden at pipeline execution time. Please utilize the PipelineDefinitionConfig to persist this field in the pipeline definition if desired.\n"
     ]
    }
   ],
   "source": [
    "model_metrics = ModelMetrics(\n",
    "    model_statistics=MetricsSource(\n",
    "        s3_uri=\"{}/evaluation.json\".format(\n",
    "            step_eval.arguments[\"ProcessingOutputConfig\"][\"Outputs\"][0][\"S3Output\"][\"S3Uri\"]\n",
    "        ),\n",
    "        content_type=\"application/json\"\n",
    "    )\n",
    ")"
   ]
  },
  {
   "cell_type": "code",
   "execution_count": 17,
   "id": "c3bb4eb8-c3b7-4835-a539-f9d4ce01b31c",
   "metadata": {
    "execution": {
     "iopub.execute_input": "2024-07-19T21:57:56.242945Z",
     "iopub.status.busy": "2024-07-19T21:57:56.241976Z",
     "iopub.status.idle": "2024-07-19T21:57:56.365424Z",
     "shell.execute_reply": "2024-07-19T21:57:56.364633Z",
     "shell.execute_reply.started": "2024-07-19T21:57:56.242916Z"
    }
   },
   "outputs": [],
   "source": [
    "register_model_step_args = model.register(\n",
    "    content_types=[\"application/json\"],\n",
    "    response_types=[\"application/json\"],\n",
    "    inference_instances=[\"ml.t2.medium\", \"ml.m5.xlarge\"],\n",
    "    transform_instances=[\"ml.m5.xlarge\"],\n",
    "    model_package_group_name=MODEL_PACKAGE_GROUP_NAME,\n",
    "    approval_status=model_approval_status,\n",
    "    model_metrics=model_metrics\n",
    ")"
   ]
  },
  {
   "cell_type": "code",
   "execution_count": 18,
   "id": "824c2502-c7eb-4359-93d5-cd963f5cf930",
   "metadata": {
    "execution": {
     "iopub.execute_input": "2024-07-19T21:57:56.368762Z",
     "iopub.status.busy": "2024-07-19T21:57:56.368458Z",
     "iopub.status.idle": "2024-07-19T21:57:56.374803Z",
     "shell.execute_reply": "2024-07-19T21:57:56.374127Z",
     "shell.execute_reply.started": "2024-07-19T21:57:56.368735Z"
    },
    "tags": []
   },
   "outputs": [],
   "source": [
    "step_register = ModelStep(\n",
    "   name=\"Register\",\n",
    "   step_args=register_model_step_args,\n",
    ")"
   ]
  },
  {
   "cell_type": "markdown",
   "id": "c773af60-beaf-48a0-affb-fedfd4dc6fa9",
   "metadata": {
    "tags": []
   },
   "source": [
    "### 5. Add condition"
   ]
  },
  {
   "cell_type": "code",
   "execution_count": 19,
   "id": "bd4740c8-adb4-4a6a-b2d1-893885ab4f48",
   "metadata": {
    "execution": {
     "iopub.execute_input": "2024-07-19T21:57:56.376849Z",
     "iopub.status.busy": "2024-07-19T21:57:56.376209Z",
     "iopub.status.idle": "2024-07-19T21:57:56.482096Z",
     "shell.execute_reply": "2024-07-19T21:57:56.481387Z",
     "shell.execute_reply.started": "2024-07-19T21:57:56.376809Z"
    },
    "tags": []
   },
   "outputs": [],
   "source": [
    "cond_ge = ConditionGreaterThanOrEqualTo(\n",
    "    left=JsonGet(\n",
    "        step_name=step_eval.name,\n",
    "        property_file=evaluation_report,\n",
    "        json_path=\"r2_score\"\n",
    "    ),\n",
    "    right=0.3,\n",
    ")"
   ]
  },
  {
   "cell_type": "code",
   "execution_count": 20,
   "id": "99e0b194-eb38-4466-a1dc-16b27601beec",
   "metadata": {
    "execution": {
     "iopub.execute_input": "2024-07-19T21:57:56.485442Z",
     "iopub.status.busy": "2024-07-19T21:57:56.485136Z",
     "iopub.status.idle": "2024-07-19T21:57:56.595048Z",
     "shell.execute_reply": "2024-07-19T21:57:56.594343Z",
     "shell.execute_reply.started": "2024-07-19T21:57:56.485415Z"
    },
    "tags": []
   },
   "outputs": [],
   "source": [
    "step_cond = ConditionStep(\n",
    "    name=\"R2Cond\",\n",
    "    conditions=[cond_ge],\n",
    "    if_steps=[step_register],\n",
    "    else_steps=[], \n",
    ")"
   ]
  },
  {
   "cell_type": "markdown",
   "id": "d6930633-915a-4c85-9b28-b77d8bc32d0f",
   "metadata": {},
   "source": [
    "### Create pipeline"
   ]
  },
  {
   "cell_type": "code",
   "execution_count": 21,
   "id": "518da06a-1a4a-4076-87ca-46a9a07c4009",
   "metadata": {
    "execution": {
     "iopub.execute_input": "2024-07-19T21:57:56.598360Z",
     "iopub.status.busy": "2024-07-19T21:57:56.598051Z",
     "iopub.status.idle": "2024-07-19T21:57:56.769050Z",
     "shell.execute_reply": "2024-07-19T21:57:56.768321Z",
     "shell.execute_reply.started": "2024-07-19T21:57:56.598333Z"
    },
    "tags": []
   },
   "outputs": [],
   "source": [
    "pipeline_name = f\"LetterboxdPipeline\"\n",
    "definition_config = PipelineDefinitionConfig(use_custom_job_prefix=True)\n",
    "\n",
    "pipeline = Pipeline(\n",
    "    name=pipeline_name,\n",
    "    parameters=[\n",
    "        processing_instance_count,\n",
    "        model_approval_status,\n",
    "        input_data,\n",
    "        mlflow_arn,\n",
    "        mlflow_experiment_name,\n",
    "        encoders_bucket_name,\n",
    "        encoders_folder\n",
    "    ],\n",
    "    steps=[step_process, step_train, step_eval, step_cond],\n",
    "    pipeline_definition_config=definition_config,\n",
    ")"
   ]
  },
  {
   "cell_type": "markdown",
   "id": "18b2e5e6-af7e-4312-9d95-002f1d89f081",
   "metadata": {},
   "source": [
    "#### Examine pipeline"
   ]
  },
  {
   "cell_type": "code",
   "execution_count": 22,
   "id": "46b82d27-7c33-472c-a0b0-10beccb1c00b",
   "metadata": {
    "execution": {
     "iopub.execute_input": "2024-07-19T21:57:56.770683Z",
     "iopub.status.busy": "2024-07-19T21:57:56.770340Z",
     "iopub.status.idle": "2024-07-19T21:57:57.049670Z",
     "shell.execute_reply": "2024-07-19T21:57:57.048857Z",
     "shell.execute_reply.started": "2024-07-19T21:57:56.770647Z"
    },
    "tags": []
   },
   "outputs": [
    {
     "name": "stderr",
     "output_type": "stream",
     "text": [
      "INFO:sagemaker.processing:Uploaded scripts/evaluation to s3://sagemaker-eu-north-1-381492095903/LetterboxdPipeline/code/1045eea45104324e6075f4f53099f4c7/sourcedir.tar.gz\n",
      "INFO:sagemaker.processing:runproc.sh uploaded to s3://sagemaker-eu-north-1-381492095903/LetterboxdPipeline/code/2c207c809cb0e0e9a1d77e5247f961f9/runproc.sh\n",
      "WARNING:sagemaker.workflow._utils:Popping out 'CertifyForMarketplace' from the pipeline definition since it will be overridden in pipeline execution time.\n"
     ]
    },
    {
     "data": {
      "text/plain": [
       "{'Version': '2020-12-01',\n",
       " 'Metadata': {},\n",
       " 'Parameters': [{'Name': 'ProcessingInstanceCount',\n",
       "   'Type': 'Integer',\n",
       "   'DefaultValue': 1},\n",
       "  {'Name': 'ModelApprovalStatus',\n",
       "   'Type': 'String',\n",
       "   'DefaultValue': 'Approved'},\n",
       "  {'Name': 'InputData',\n",
       "   'Type': 'String',\n",
       "   'DefaultValue': 's3://mlops-ucu-2024/popular_movies.csv'},\n",
       "  {'Name': 'MLFlowTrackingUri',\n",
       "   'Type': 'String',\n",
       "   'DefaultValue': 'arn:aws:sagemaker:eu-north-1:381492095903:mlflow-tracking-server/letterboxd-predictions'},\n",
       "  {'Name': 'MLFlowExperimentName',\n",
       "   'Type': 'String',\n",
       "   'DefaultValue': 'letterboxd-predictions-lr'},\n",
       "  {'Name': 'EncodersBucketName',\n",
       "   'Type': 'String',\n",
       "   'DefaultValue': 'mlops-ucu-2024'},\n",
       "  {'Name': 'EncodersFolder', 'Type': 'String', 'DefaultValue': 'encoders'}],\n",
       " 'PipelineExperimentConfig': {'ExperimentName': {'Get': 'Execution.PipelineName'},\n",
       "  'TrialName': {'Get': 'Execution.PipelineExecutionId'}},\n",
       " 'Steps': [{'Name': 'Preprocess',\n",
       "   'Type': 'Processing',\n",
       "   'Arguments': {'ProcessingJobName': 'letterboxd-preprocess',\n",
       "    'ProcessingResources': {'ClusterConfig': {'InstanceType': 'ml.t3.medium',\n",
       "      'InstanceCount': 1,\n",
       "      'VolumeSizeInGB': 30}},\n",
       "    'AppSpecification': {'ImageUri': '662702820516.dkr.ecr.eu-north-1.amazonaws.com/sagemaker-scikit-learn:1.2-1-cpu-py3',\n",
       "     'ContainerArguments': ['--encoders-bucket-name',\n",
       "      {'Get': 'Parameters.EncodersBucketName'},\n",
       "      '--encoders-folder',\n",
       "      {'Get': 'Parameters.EncodersFolder'}],\n",
       "     'ContainerEntrypoint': ['python3',\n",
       "      '/opt/ml/processing/input/code/preprocessing.py']},\n",
       "    'RoleArn': 'arn:aws:iam::381492095903:role/service-role/AmazonSageMaker-ExecutionRole-20240716T221671',\n",
       "    'ProcessingInputs': [{'InputName': 'input-1',\n",
       "      'AppManaged': False,\n",
       "      'S3Input': {'S3Uri': {'Get': 'Parameters.InputData'},\n",
       "       'LocalPath': '/opt/ml/processing/input',\n",
       "       'S3DataType': 'S3Prefix',\n",
       "       'S3InputMode': 'File',\n",
       "       'S3DataDistributionType': 'FullyReplicated',\n",
       "       'S3CompressionType': 'None'}},\n",
       "     {'InputName': 'code',\n",
       "      'AppManaged': False,\n",
       "      'S3Input': {'S3Uri': 's3://sagemaker-eu-north-1-381492095903/LetterboxdPipeline/code/a34f4962b772b93872b1e5f4e1e2e36a/preprocessing.py',\n",
       "       'LocalPath': '/opt/ml/processing/input/code',\n",
       "       'S3DataType': 'S3Prefix',\n",
       "       'S3InputMode': 'File',\n",
       "       'S3DataDistributionType': 'FullyReplicated',\n",
       "       'S3CompressionType': 'None'}}],\n",
       "    'ProcessingOutputConfig': {'Outputs': [{'OutputName': 'train',\n",
       "       'AppManaged': False,\n",
       "       'S3Output': {'S3Uri': {'Std:Join': {'On': '/',\n",
       "          'Values': ['s3:/',\n",
       "           'sagemaker-eu-north-1-381492095903',\n",
       "           'LetterboxdPipeline',\n",
       "           {'Get': 'Execution.PipelineExecutionId'},\n",
       "           'Preprocess',\n",
       "           'output',\n",
       "           'train']}},\n",
       "        'LocalPath': '/opt/ml/processing/train',\n",
       "        'S3UploadMode': 'EndOfJob'}},\n",
       "      {'OutputName': 'test',\n",
       "       'AppManaged': False,\n",
       "       'S3Output': {'S3Uri': {'Std:Join': {'On': '/',\n",
       "          'Values': ['s3:/',\n",
       "           'sagemaker-eu-north-1-381492095903',\n",
       "           'LetterboxdPipeline',\n",
       "           {'Get': 'Execution.PipelineExecutionId'},\n",
       "           'Preprocess',\n",
       "           'output',\n",
       "           'test']}},\n",
       "        'LocalPath': '/opt/ml/processing/test',\n",
       "        'S3UploadMode': 'EndOfJob'}},\n",
       "      {'OutputName': 'encoders',\n",
       "       'AppManaged': False,\n",
       "       'S3Output': {'S3Uri': {'Std:Join': {'On': '/',\n",
       "          'Values': ['s3:/',\n",
       "           'sagemaker-eu-north-1-381492095903',\n",
       "           'LetterboxdPipeline',\n",
       "           {'Get': 'Execution.PipelineExecutionId'},\n",
       "           'Preprocess',\n",
       "           'output',\n",
       "           'encoders']}},\n",
       "        'LocalPath': '/opt/ml/processing/encoders',\n",
       "        'S3UploadMode': 'EndOfJob'}}]}}},\n",
       "  {'Name': 'Training',\n",
       "   'Type': 'Training',\n",
       "   'Arguments': {'AlgorithmSpecification': {'TrainingInputMode': 'File',\n",
       "     'TrainingImage': '662702820516.dkr.ecr.eu-north-1.amazonaws.com/sagemaker-scikit-learn:1.2-1-cpu-py3'},\n",
       "    'OutputDataConfig': {'S3OutputPath': 's3://sagemaker-eu-north-1-381492095903/'},\n",
       "    'TrainingJobName': 'sagemaker-scikit-learn',\n",
       "    'StoppingCondition': {'MaxRuntimeInSeconds': 86400},\n",
       "    'ResourceConfig': {'VolumeSizeInGB': 30,\n",
       "     'InstanceCount': 1,\n",
       "     'InstanceType': 'ml.m5.xlarge'},\n",
       "    'RoleArn': 'arn:aws:iam::381492095903:role/service-role/AmazonSageMaker-ExecutionRole-20240716T221671',\n",
       "    'InputDataConfig': [{'DataSource': {'S3DataSource': {'S3DataType': 'S3Prefix',\n",
       "        'S3Uri': {'Get': \"Steps.Preprocess.ProcessingOutputConfig.Outputs['train'].S3Output.S3Uri\"},\n",
       "        'S3DataDistributionType': 'FullyReplicated'}},\n",
       "      'ChannelName': 'train'}],\n",
       "    'HyperParameters': {'sagemaker_submit_directory': '\"s3://sagemaker-eu-north-1-381492095903/LetterboxdPipeline/code/5623a3393465ca6c61e27eb65897b2a4/sourcedir.tar.gz\"',\n",
       "     'sagemaker_program': '\"train.py\"',\n",
       "     'sagemaker_container_log_level': '20',\n",
       "     'sagemaker_region': '\"eu-north-1\"'},\n",
       "    'DebugHookConfig': {'S3OutputPath': 's3://sagemaker-eu-north-1-381492095903/',\n",
       "     'CollectionConfigurations': []},\n",
       "    'ProfilerConfig': {'S3OutputPath': 's3://sagemaker-eu-north-1-381492095903/',\n",
       "     'DisableProfiler': False}}},\n",
       "  {'Name': 'Eval',\n",
       "   'Type': 'Processing',\n",
       "   'Arguments': {'ProcessingJobName': 'letterboxd-evaluate',\n",
       "    'ProcessingResources': {'ClusterConfig': {'InstanceType': 'ml.t3.medium',\n",
       "      'InstanceCount': 1,\n",
       "      'VolumeSizeInGB': 30}},\n",
       "    'AppSpecification': {'ImageUri': '662702820516.dkr.ecr.eu-north-1.amazonaws.com/sagemaker-scikit-learn:1.2-1-cpu-py3',\n",
       "     'ContainerEntrypoint': ['/bin/bash',\n",
       "      '/opt/ml/processing/input/entrypoint/runproc.sh']},\n",
       "    'RoleArn': 'arn:aws:iam::381492095903:role/service-role/AmazonSageMaker-ExecutionRole-20240716T221671',\n",
       "    'ProcessingInputs': [{'InputName': 'input-1',\n",
       "      'AppManaged': False,\n",
       "      'S3Input': {'S3Uri': {'Get': 'Steps.Training.ModelArtifacts.S3ModelArtifacts'},\n",
       "       'LocalPath': '/opt/ml/processing/model',\n",
       "       'S3DataType': 'S3Prefix',\n",
       "       'S3InputMode': 'File',\n",
       "       'S3DataDistributionType': 'FullyReplicated',\n",
       "       'S3CompressionType': 'None'}},\n",
       "     {'InputName': 'input-2',\n",
       "      'AppManaged': False,\n",
       "      'S3Input': {'S3Uri': {'Get': \"Steps.Preprocess.ProcessingOutputConfig.Outputs['test'].S3Output.S3Uri\"},\n",
       "       'LocalPath': '/opt/ml/processing/test',\n",
       "       'S3DataType': 'S3Prefix',\n",
       "       'S3InputMode': 'File',\n",
       "       'S3DataDistributionType': 'FullyReplicated',\n",
       "       'S3CompressionType': 'None'}},\n",
       "     {'InputName': 'input-3',\n",
       "      'AppManaged': False,\n",
       "      'S3Input': {'S3Uri': {'Get': \"Steps.Preprocess.ProcessingOutputConfig.Outputs['encoders'].S3Output.S3Uri\"},\n",
       "       'LocalPath': '/opt/ml/processing/encoders',\n",
       "       'S3DataType': 'S3Prefix',\n",
       "       'S3InputMode': 'File',\n",
       "       'S3DataDistributionType': 'FullyReplicated',\n",
       "       'S3CompressionType': 'None'}},\n",
       "     {'InputName': 'code',\n",
       "      'AppManaged': False,\n",
       "      'S3Input': {'S3Uri': 's3://sagemaker-eu-north-1-381492095903/LetterboxdPipeline/code/1045eea45104324e6075f4f53099f4c7/sourcedir.tar.gz',\n",
       "       'LocalPath': '/opt/ml/processing/input/code/',\n",
       "       'S3DataType': 'S3Prefix',\n",
       "       'S3InputMode': 'File',\n",
       "       'S3DataDistributionType': 'FullyReplicated',\n",
       "       'S3CompressionType': 'None'}},\n",
       "     {'InputName': 'entrypoint',\n",
       "      'AppManaged': False,\n",
       "      'S3Input': {'S3Uri': 's3://sagemaker-eu-north-1-381492095903/LetterboxdPipeline/code/2c207c809cb0e0e9a1d77e5247f961f9/runproc.sh',\n",
       "       'LocalPath': '/opt/ml/processing/input/entrypoint',\n",
       "       'S3DataType': 'S3Prefix',\n",
       "       'S3InputMode': 'File',\n",
       "       'S3DataDistributionType': 'FullyReplicated',\n",
       "       'S3CompressionType': 'None'}}],\n",
       "    'ProcessingOutputConfig': {'Outputs': [{'OutputName': 'evaluation',\n",
       "       'AppManaged': False,\n",
       "       'S3Output': {'S3Uri': 's3://sagemaker-eu-north-1-381492095903/letterboxd-evaluate-2024-07-19-21-57-55-937/output/evaluation',\n",
       "        'LocalPath': '/opt/ml/processing/evaluation',\n",
       "        'S3UploadMode': 'EndOfJob'}}]},\n",
       "    'Environment': {'MLFLOW_TRACKING_ARN': {'Get': 'Parameters.MLFlowTrackingUri'},\n",
       "     'MLFLOW_EXPERIMENT_NAME': {'Get': 'Parameters.MLFlowExperimentName'}}},\n",
       "   'PropertyFiles': [{'PropertyFileName': 'EvaluationReport',\n",
       "     'OutputName': 'evaluation',\n",
       "     'FilePath': 'evaluation.json'}]},\n",
       "  {'Name': 'R2Cond',\n",
       "   'Type': 'Condition',\n",
       "   'Arguments': {'Conditions': [{'Type': 'GreaterThanOrEqualTo',\n",
       "      'LeftValue': {'Std:JsonGet': {'PropertyFile': {'Get': 'Steps.Eval.PropertyFiles.EvaluationReport'},\n",
       "        'Path': 'r2_score'}},\n",
       "      'RightValue': 0.3}],\n",
       "    'IfSteps': [{'Name': 'Register-RegisterModel',\n",
       "      'Type': 'RegisterModel',\n",
       "      'Arguments': {'ModelPackageGroupName': 'LetterboxdRartingPredictions',\n",
       "       'ModelMetrics': {'ModelQuality': {'Statistics': {'ContentType': 'application/json',\n",
       "          'S3Uri': 's3://sagemaker-eu-north-1-381492095903/letterboxd-evaluate-2024-07-19-21-57-55-937/output/evaluation/evaluation.json'}},\n",
       "        'Bias': {},\n",
       "        'Explainability': {}},\n",
       "       'InferenceSpecification': {'Containers': [{'Image': '662702820516.dkr.ecr.eu-north-1.amazonaws.com/sagemaker-scikit-learn:1.2-1-cpu-py3',\n",
       "          'Environment': {'SAGEMAKER_PROGRAM': 'inference.py',\n",
       "           'SAGEMAKER_SUBMIT_DIRECTORY': 's3://sagemaker-eu-north-1-381492095903/LLR/sourcedir.tar.gz',\n",
       "           'SAGEMAKER_CONTAINER_LOG_LEVEL': '20',\n",
       "           'SAGEMAKER_REGION': 'eu-north-1'},\n",
       "          'ModelDataUrl': {'Get': 'Steps.Training.ModelArtifacts.S3ModelArtifacts'}}],\n",
       "        'SupportedContentTypes': ['application/json'],\n",
       "        'SupportedResponseMIMETypes': ['application/json'],\n",
       "        'SupportedRealtimeInferenceInstanceTypes': ['ml.t2.medium',\n",
       "         'ml.m5.xlarge'],\n",
       "        'SupportedTransformInstanceTypes': ['ml.m5.xlarge']},\n",
       "       'ModelApprovalStatus': {'Get': 'Parameters.ModelApprovalStatus'},\n",
       "       'SkipModelValidation': 'None'}}],\n",
       "    'ElseSteps': []}}]}"
      ]
     },
     "execution_count": 22,
     "metadata": {},
     "output_type": "execute_result"
    }
   ],
   "source": [
    "json.loads(pipeline.definition())"
   ]
  },
  {
   "cell_type": "markdown",
   "id": "0f18d29c-5ffe-4f0b-b64c-1993a04b948a",
   "metadata": {},
   "source": [
    "#### Submit pipeline"
   ]
  },
  {
   "cell_type": "code",
   "execution_count": 23,
   "id": "f2317846-43c0-4915-acea-72e17f27b05b",
   "metadata": {
    "execution": {
     "iopub.execute_input": "2024-07-19T21:57:57.051937Z",
     "iopub.status.busy": "2024-07-19T21:57:57.051106Z",
     "iopub.status.idle": "2024-07-19T21:57:58.389747Z",
     "shell.execute_reply": "2024-07-19T21:57:58.388884Z",
     "shell.execute_reply.started": "2024-07-19T21:57:57.051892Z"
    },
    "tags": []
   },
   "outputs": [
    {
     "name": "stderr",
     "output_type": "stream",
     "text": [
      "INFO:sagemaker.processing:Uploaded scripts/evaluation to s3://sagemaker-eu-north-1-381492095903/LetterboxdPipeline/code/1045eea45104324e6075f4f53099f4c7/sourcedir.tar.gz\n",
      "INFO:sagemaker.processing:runproc.sh uploaded to s3://sagemaker-eu-north-1-381492095903/LetterboxdPipeline/code/2c207c809cb0e0e9a1d77e5247f961f9/runproc.sh\n",
      "INFO:sagemaker.processing:Uploaded scripts/evaluation to s3://sagemaker-eu-north-1-381492095903/LetterboxdPipeline/code/1045eea45104324e6075f4f53099f4c7/sourcedir.tar.gz\n",
      "INFO:sagemaker.processing:runproc.sh uploaded to s3://sagemaker-eu-north-1-381492095903/LetterboxdPipeline/code/2c207c809cb0e0e9a1d77e5247f961f9/runproc.sh\n"
     ]
    },
    {
     "data": {
      "text/plain": [
       "{'PipelineArn': 'arn:aws:sagemaker:eu-north-1:381492095903:pipeline/LetterboxdPipeline',\n",
       " 'ResponseMetadata': {'RequestId': '517fc19f-4f2f-4b73-9a06-b9ed7c5ba000',\n",
       "  'HTTPStatusCode': 200,\n",
       "  'HTTPHeaders': {'x-amzn-requestid': '517fc19f-4f2f-4b73-9a06-b9ed7c5ba000',\n",
       "   'content-type': 'application/x-amz-json-1.1',\n",
       "   'content-length': '87',\n",
       "   'date': 'Fri, 19 Jul 2024 21:57:58 GMT'},\n",
       "  'RetryAttempts': 0}}"
      ]
     },
     "execution_count": 23,
     "metadata": {},
     "output_type": "execute_result"
    }
   ],
   "source": [
    "pipeline.upsert(role_arn=role)"
   ]
  },
  {
   "cell_type": "markdown",
   "id": "0f789b7f-f33a-4fa1-bc95-99d2532235ef",
   "metadata": {},
   "source": [
    "#### Start execution"
   ]
  },
  {
   "cell_type": "code",
   "execution_count": 24,
   "id": "a633a4c4-6048-45e2-be47-e742789887a0",
   "metadata": {
    "execution": {
     "iopub.execute_input": "2024-07-19T21:57:58.391746Z",
     "iopub.status.busy": "2024-07-19T21:57:58.391400Z",
     "iopub.status.idle": "2024-07-19T21:57:58.576659Z",
     "shell.execute_reply": "2024-07-19T21:57:58.575914Z",
     "shell.execute_reply.started": "2024-07-19T21:57:58.391707Z"
    },
    "tags": []
   },
   "outputs": [],
   "source": [
    "execution = pipeline.start()"
   ]
  },
  {
   "cell_type": "code",
   "execution_count": null,
   "id": "43cd6d46-aae8-4ec4-bd8e-9176594e321b",
   "metadata": {
    "execution": {
     "iopub.execute_input": "2024-07-19T21:57:58.578373Z",
     "iopub.status.busy": "2024-07-19T21:57:58.577694Z"
    },
    "tags": []
   },
   "outputs": [],
   "source": [
    "execution.wait()"
   ]
  },
  {
   "cell_type": "markdown",
   "id": "32d95e45-887e-4075-adf3-dc09fabd2a51",
   "metadata": {},
   "source": [
    "### Create model package"
   ]
  },
  {
   "cell_type": "code",
   "execution_count": null,
   "id": "78163774-e3f7-4787-a15b-a4086643521c",
   "metadata": {
    "tags": []
   },
   "outputs": [],
   "source": [
    "execution.list_steps()"
   ]
  },
  {
   "cell_type": "code",
   "execution_count": null,
   "id": "28cec607-3cf9-449c-87e5-c67e57c29a7d",
   "metadata": {
    "tags": []
   },
   "outputs": [],
   "source": [
    "registered_model_arn = execution.list_steps()[0]['Metadata']['RegisterModel']['Arn']"
   ]
  },
  {
   "cell_type": "code",
   "execution_count": null,
   "id": "4a685d7e-e67f-4fa6-b4c8-7945907672d5",
   "metadata": {
    "tags": []
   },
   "outputs": [],
   "source": [
    "model_package = ModelPackage(\n",
    "    role=role,\n",
    "    model_package_arn=registered_model_arn,\n",
    ")"
   ]
  },
  {
   "cell_type": "markdown",
   "id": "f3271c98-f480-4413-8ba3-6c6535df8f1e",
   "metadata": {},
   "source": [
    "### Deploy model"
   ]
  },
  {
   "cell_type": "code",
   "execution_count": null,
   "id": "7a0166f7-65be-43a1-b355-e3609a42f1db",
   "metadata": {
    "tags": []
   },
   "outputs": [],
   "source": [
    "endpoint_name = \"DEMO-endpoint-\" + time.strftime(\"%Y-%m-%d-%H-%M-%S\", time.gmtime())\n",
    "\n",
    "print(f\"EndpointName: {endpoint_name}\")\n",
    "model.deploy(\n",
    "    initial_instance_count=1,\n",
    "    instance_type=\"ml.m5.xlarge\",\n",
    "    endpoint_name=endpoint_name\n",
    ")"
   ]
  },
  {
   "cell_type": "code",
   "execution_count": null,
   "id": "f209629c-25a1-4663-89e5-479015e2b72e",
   "metadata": {
    "tags": []
   },
   "outputs": [],
   "source": [
    "predictor = Predictor(endpoint_name=endpoint_name,\n",
    "    serializer=JSONSerializer(),\n",
    "    deserializer=JSONDeserializer())"
   ]
  },
  {
   "cell_type": "markdown",
   "id": "d880f0b2-bb1a-4431-b07f-95179474d87f",
   "metadata": {},
   "source": [
    "### Test model"
   ]
  },
  {
   "cell_type": "code",
   "execution_count": null,
   "id": "ff9ae3fd-c545-491e-9f42-04bff1b72a8e",
   "metadata": {
    "tags": []
   },
   "outputs": [],
   "source": [
    "input_data = {\n",
    "    \"Year\": 1990,\n",
    "    \"Minutes\": 103,\n",
    "    \"Language\": \"English\",\n",
    "    \"Genres\": [\"Comedy\", \"Family\", \"Adventure\"],\n",
    "    \"Countries\": [\"USA\"],\n",
    "    \"Directors\": [\"Chris Columbus\"],\n",
    "    \"Cast\": [\"Macaulay Culkin\", \"Daniel Stern\", \"Joe Pesci\", \"Catherine O'Hara\", \"John Heard\"]\n",
    "}"
   ]
  },
  {
   "cell_type": "code",
   "execution_count": null,
   "id": "550a7204-1838-4a17-b17d-cc56c338cec3",
   "metadata": {
    "tags": []
   },
   "outputs": [],
   "source": [
    "prediction = predictor.predict(input_data)"
   ]
  },
  {
   "cell_type": "markdown",
   "id": "3fd7498f-9bcb-4b66-8300-de4cd0c0ccf2",
   "metadata": {},
   "source": [
    "### Delete endpoint"
   ]
  },
  {
   "cell_type": "code",
   "execution_count": null,
   "id": "bae7ac1a-efc3-4fb9-b7e3-32bb2582ddf9",
   "metadata": {
    "tags": []
   },
   "outputs": [],
   "source": [
    "# predictor.delete_endpoint()"
   ]
  }
 ],
 "metadata": {
  "availableInstances": [
   {
    "_defaultOrder": 0,
    "_isFastLaunch": true,
    "category": "General purpose",
    "gpuNum": 0,
    "hideHardwareSpecs": false,
    "memoryGiB": 4,
    "name": "ml.t3.medium",
    "vcpuNum": 2
   },
   {
    "_defaultOrder": 1,
    "_isFastLaunch": false,
    "category": "General purpose",
    "gpuNum": 0,
    "hideHardwareSpecs": false,
    "memoryGiB": 8,
    "name": "ml.t3.large",
    "vcpuNum": 2
   },
   {
    "_defaultOrder": 2,
    "_isFastLaunch": false,
    "category": "General purpose",
    "gpuNum": 0,
    "hideHardwareSpecs": false,
    "memoryGiB": 16,
    "name": "ml.t3.xlarge",
    "vcpuNum": 4
   },
   {
    "_defaultOrder": 3,
    "_isFastLaunch": false,
    "category": "General purpose",
    "gpuNum": 0,
    "hideHardwareSpecs": false,
    "memoryGiB": 32,
    "name": "ml.t3.2xlarge",
    "vcpuNum": 8
   },
   {
    "_defaultOrder": 4,
    "_isFastLaunch": true,
    "category": "General purpose",
    "gpuNum": 0,
    "hideHardwareSpecs": false,
    "memoryGiB": 8,
    "name": "ml.m5.large",
    "vcpuNum": 2
   },
   {
    "_defaultOrder": 5,
    "_isFastLaunch": false,
    "category": "General purpose",
    "gpuNum": 0,
    "hideHardwareSpecs": false,
    "memoryGiB": 16,
    "name": "ml.m5.xlarge",
    "vcpuNum": 4
   },
   {
    "_defaultOrder": 6,
    "_isFastLaunch": false,
    "category": "General purpose",
    "gpuNum": 0,
    "hideHardwareSpecs": false,
    "memoryGiB": 32,
    "name": "ml.m5.2xlarge",
    "vcpuNum": 8
   },
   {
    "_defaultOrder": 7,
    "_isFastLaunch": false,
    "category": "General purpose",
    "gpuNum": 0,
    "hideHardwareSpecs": false,
    "memoryGiB": 64,
    "name": "ml.m5.4xlarge",
    "vcpuNum": 16
   },
   {
    "_defaultOrder": 8,
    "_isFastLaunch": false,
    "category": "General purpose",
    "gpuNum": 0,
    "hideHardwareSpecs": false,
    "memoryGiB": 128,
    "name": "ml.m5.8xlarge",
    "vcpuNum": 32
   },
   {
    "_defaultOrder": 9,
    "_isFastLaunch": false,
    "category": "General purpose",
    "gpuNum": 0,
    "hideHardwareSpecs": false,
    "memoryGiB": 192,
    "name": "ml.m5.12xlarge",
    "vcpuNum": 48
   },
   {
    "_defaultOrder": 10,
    "_isFastLaunch": false,
    "category": "General purpose",
    "gpuNum": 0,
    "hideHardwareSpecs": false,
    "memoryGiB": 256,
    "name": "ml.m5.16xlarge",
    "vcpuNum": 64
   },
   {
    "_defaultOrder": 11,
    "_isFastLaunch": false,
    "category": "General purpose",
    "gpuNum": 0,
    "hideHardwareSpecs": false,
    "memoryGiB": 384,
    "name": "ml.m5.24xlarge",
    "vcpuNum": 96
   },
   {
    "_defaultOrder": 12,
    "_isFastLaunch": false,
    "category": "General purpose",
    "gpuNum": 0,
    "hideHardwareSpecs": false,
    "memoryGiB": 8,
    "name": "ml.m5d.large",
    "vcpuNum": 2
   },
   {
    "_defaultOrder": 13,
    "_isFastLaunch": false,
    "category": "General purpose",
    "gpuNum": 0,
    "hideHardwareSpecs": false,
    "memoryGiB": 16,
    "name": "ml.m5d.xlarge",
    "vcpuNum": 4
   },
   {
    "_defaultOrder": 14,
    "_isFastLaunch": false,
    "category": "General purpose",
    "gpuNum": 0,
    "hideHardwareSpecs": false,
    "memoryGiB": 32,
    "name": "ml.m5d.2xlarge",
    "vcpuNum": 8
   },
   {
    "_defaultOrder": 15,
    "_isFastLaunch": false,
    "category": "General purpose",
    "gpuNum": 0,
    "hideHardwareSpecs": false,
    "memoryGiB": 64,
    "name": "ml.m5d.4xlarge",
    "vcpuNum": 16
   },
   {
    "_defaultOrder": 16,
    "_isFastLaunch": false,
    "category": "General purpose",
    "gpuNum": 0,
    "hideHardwareSpecs": false,
    "memoryGiB": 128,
    "name": "ml.m5d.8xlarge",
    "vcpuNum": 32
   },
   {
    "_defaultOrder": 17,
    "_isFastLaunch": false,
    "category": "General purpose",
    "gpuNum": 0,
    "hideHardwareSpecs": false,
    "memoryGiB": 192,
    "name": "ml.m5d.12xlarge",
    "vcpuNum": 48
   },
   {
    "_defaultOrder": 18,
    "_isFastLaunch": false,
    "category": "General purpose",
    "gpuNum": 0,
    "hideHardwareSpecs": false,
    "memoryGiB": 256,
    "name": "ml.m5d.16xlarge",
    "vcpuNum": 64
   },
   {
    "_defaultOrder": 19,
    "_isFastLaunch": false,
    "category": "General purpose",
    "gpuNum": 0,
    "hideHardwareSpecs": false,
    "memoryGiB": 384,
    "name": "ml.m5d.24xlarge",
    "vcpuNum": 96
   },
   {
    "_defaultOrder": 20,
    "_isFastLaunch": false,
    "category": "General purpose",
    "gpuNum": 0,
    "hideHardwareSpecs": true,
    "memoryGiB": 0,
    "name": "ml.geospatial.interactive",
    "supportedImageNames": [
     "sagemaker-geospatial-v1-0"
    ],
    "vcpuNum": 0
   },
   {
    "_defaultOrder": 21,
    "_isFastLaunch": true,
    "category": "Compute optimized",
    "gpuNum": 0,
    "hideHardwareSpecs": false,
    "memoryGiB": 4,
    "name": "ml.c5.large",
    "vcpuNum": 2
   },
   {
    "_defaultOrder": 22,
    "_isFastLaunch": false,
    "category": "Compute optimized",
    "gpuNum": 0,
    "hideHardwareSpecs": false,
    "memoryGiB": 8,
    "name": "ml.c5.xlarge",
    "vcpuNum": 4
   },
   {
    "_defaultOrder": 23,
    "_isFastLaunch": false,
    "category": "Compute optimized",
    "gpuNum": 0,
    "hideHardwareSpecs": false,
    "memoryGiB": 16,
    "name": "ml.c5.2xlarge",
    "vcpuNum": 8
   },
   {
    "_defaultOrder": 24,
    "_isFastLaunch": false,
    "category": "Compute optimized",
    "gpuNum": 0,
    "hideHardwareSpecs": false,
    "memoryGiB": 32,
    "name": "ml.c5.4xlarge",
    "vcpuNum": 16
   },
   {
    "_defaultOrder": 25,
    "_isFastLaunch": false,
    "category": "Compute optimized",
    "gpuNum": 0,
    "hideHardwareSpecs": false,
    "memoryGiB": 72,
    "name": "ml.c5.9xlarge",
    "vcpuNum": 36
   },
   {
    "_defaultOrder": 26,
    "_isFastLaunch": false,
    "category": "Compute optimized",
    "gpuNum": 0,
    "hideHardwareSpecs": false,
    "memoryGiB": 96,
    "name": "ml.c5.12xlarge",
    "vcpuNum": 48
   },
   {
    "_defaultOrder": 27,
    "_isFastLaunch": false,
    "category": "Compute optimized",
    "gpuNum": 0,
    "hideHardwareSpecs": false,
    "memoryGiB": 144,
    "name": "ml.c5.18xlarge",
    "vcpuNum": 72
   },
   {
    "_defaultOrder": 28,
    "_isFastLaunch": false,
    "category": "Compute optimized",
    "gpuNum": 0,
    "hideHardwareSpecs": false,
    "memoryGiB": 192,
    "name": "ml.c5.24xlarge",
    "vcpuNum": 96
   },
   {
    "_defaultOrder": 29,
    "_isFastLaunch": true,
    "category": "Accelerated computing",
    "gpuNum": 1,
    "hideHardwareSpecs": false,
    "memoryGiB": 16,
    "name": "ml.g4dn.xlarge",
    "vcpuNum": 4
   },
   {
    "_defaultOrder": 30,
    "_isFastLaunch": false,
    "category": "Accelerated computing",
    "gpuNum": 1,
    "hideHardwareSpecs": false,
    "memoryGiB": 32,
    "name": "ml.g4dn.2xlarge",
    "vcpuNum": 8
   },
   {
    "_defaultOrder": 31,
    "_isFastLaunch": false,
    "category": "Accelerated computing",
    "gpuNum": 1,
    "hideHardwareSpecs": false,
    "memoryGiB": 64,
    "name": "ml.g4dn.4xlarge",
    "vcpuNum": 16
   },
   {
    "_defaultOrder": 32,
    "_isFastLaunch": false,
    "category": "Accelerated computing",
    "gpuNum": 1,
    "hideHardwareSpecs": false,
    "memoryGiB": 128,
    "name": "ml.g4dn.8xlarge",
    "vcpuNum": 32
   },
   {
    "_defaultOrder": 33,
    "_isFastLaunch": false,
    "category": "Accelerated computing",
    "gpuNum": 4,
    "hideHardwareSpecs": false,
    "memoryGiB": 192,
    "name": "ml.g4dn.12xlarge",
    "vcpuNum": 48
   },
   {
    "_defaultOrder": 34,
    "_isFastLaunch": false,
    "category": "Accelerated computing",
    "gpuNum": 1,
    "hideHardwareSpecs": false,
    "memoryGiB": 256,
    "name": "ml.g4dn.16xlarge",
    "vcpuNum": 64
   },
   {
    "_defaultOrder": 35,
    "_isFastLaunch": false,
    "category": "Accelerated computing",
    "gpuNum": 1,
    "hideHardwareSpecs": false,
    "memoryGiB": 61,
    "name": "ml.p3.2xlarge",
    "vcpuNum": 8
   },
   {
    "_defaultOrder": 36,
    "_isFastLaunch": false,
    "category": "Accelerated computing",
    "gpuNum": 4,
    "hideHardwareSpecs": false,
    "memoryGiB": 244,
    "name": "ml.p3.8xlarge",
    "vcpuNum": 32
   },
   {
    "_defaultOrder": 37,
    "_isFastLaunch": false,
    "category": "Accelerated computing",
    "gpuNum": 8,
    "hideHardwareSpecs": false,
    "memoryGiB": 488,
    "name": "ml.p3.16xlarge",
    "vcpuNum": 64
   },
   {
    "_defaultOrder": 38,
    "_isFastLaunch": false,
    "category": "Accelerated computing",
    "gpuNum": 8,
    "hideHardwareSpecs": false,
    "memoryGiB": 768,
    "name": "ml.p3dn.24xlarge",
    "vcpuNum": 96
   },
   {
    "_defaultOrder": 39,
    "_isFastLaunch": false,
    "category": "Memory Optimized",
    "gpuNum": 0,
    "hideHardwareSpecs": false,
    "memoryGiB": 16,
    "name": "ml.r5.large",
    "vcpuNum": 2
   },
   {
    "_defaultOrder": 40,
    "_isFastLaunch": false,
    "category": "Memory Optimized",
    "gpuNum": 0,
    "hideHardwareSpecs": false,
    "memoryGiB": 32,
    "name": "ml.r5.xlarge",
    "vcpuNum": 4
   },
   {
    "_defaultOrder": 41,
    "_isFastLaunch": false,
    "category": "Memory Optimized",
    "gpuNum": 0,
    "hideHardwareSpecs": false,
    "memoryGiB": 64,
    "name": "ml.r5.2xlarge",
    "vcpuNum": 8
   },
   {
    "_defaultOrder": 42,
    "_isFastLaunch": false,
    "category": "Memory Optimized",
    "gpuNum": 0,
    "hideHardwareSpecs": false,
    "memoryGiB": 128,
    "name": "ml.r5.4xlarge",
    "vcpuNum": 16
   },
   {
    "_defaultOrder": 43,
    "_isFastLaunch": false,
    "category": "Memory Optimized",
    "gpuNum": 0,
    "hideHardwareSpecs": false,
    "memoryGiB": 256,
    "name": "ml.r5.8xlarge",
    "vcpuNum": 32
   },
   {
    "_defaultOrder": 44,
    "_isFastLaunch": false,
    "category": "Memory Optimized",
    "gpuNum": 0,
    "hideHardwareSpecs": false,
    "memoryGiB": 384,
    "name": "ml.r5.12xlarge",
    "vcpuNum": 48
   },
   {
    "_defaultOrder": 45,
    "_isFastLaunch": false,
    "category": "Memory Optimized",
    "gpuNum": 0,
    "hideHardwareSpecs": false,
    "memoryGiB": 512,
    "name": "ml.r5.16xlarge",
    "vcpuNum": 64
   },
   {
    "_defaultOrder": 46,
    "_isFastLaunch": false,
    "category": "Memory Optimized",
    "gpuNum": 0,
    "hideHardwareSpecs": false,
    "memoryGiB": 768,
    "name": "ml.r5.24xlarge",
    "vcpuNum": 96
   },
   {
    "_defaultOrder": 47,
    "_isFastLaunch": false,
    "category": "Accelerated computing",
    "gpuNum": 1,
    "hideHardwareSpecs": false,
    "memoryGiB": 16,
    "name": "ml.g5.xlarge",
    "vcpuNum": 4
   },
   {
    "_defaultOrder": 48,
    "_isFastLaunch": false,
    "category": "Accelerated computing",
    "gpuNum": 1,
    "hideHardwareSpecs": false,
    "memoryGiB": 32,
    "name": "ml.g5.2xlarge",
    "vcpuNum": 8
   },
   {
    "_defaultOrder": 49,
    "_isFastLaunch": false,
    "category": "Accelerated computing",
    "gpuNum": 1,
    "hideHardwareSpecs": false,
    "memoryGiB": 64,
    "name": "ml.g5.4xlarge",
    "vcpuNum": 16
   },
   {
    "_defaultOrder": 50,
    "_isFastLaunch": false,
    "category": "Accelerated computing",
    "gpuNum": 1,
    "hideHardwareSpecs": false,
    "memoryGiB": 128,
    "name": "ml.g5.8xlarge",
    "vcpuNum": 32
   },
   {
    "_defaultOrder": 51,
    "_isFastLaunch": false,
    "category": "Accelerated computing",
    "gpuNum": 1,
    "hideHardwareSpecs": false,
    "memoryGiB": 256,
    "name": "ml.g5.16xlarge",
    "vcpuNum": 64
   },
   {
    "_defaultOrder": 52,
    "_isFastLaunch": false,
    "category": "Accelerated computing",
    "gpuNum": 4,
    "hideHardwareSpecs": false,
    "memoryGiB": 192,
    "name": "ml.g5.12xlarge",
    "vcpuNum": 48
   },
   {
    "_defaultOrder": 53,
    "_isFastLaunch": false,
    "category": "Accelerated computing",
    "gpuNum": 4,
    "hideHardwareSpecs": false,
    "memoryGiB": 384,
    "name": "ml.g5.24xlarge",
    "vcpuNum": 96
   },
   {
    "_defaultOrder": 54,
    "_isFastLaunch": false,
    "category": "Accelerated computing",
    "gpuNum": 8,
    "hideHardwareSpecs": false,
    "memoryGiB": 768,
    "name": "ml.g5.48xlarge",
    "vcpuNum": 192
   },
   {
    "_defaultOrder": 55,
    "_isFastLaunch": false,
    "category": "Accelerated computing",
    "gpuNum": 8,
    "hideHardwareSpecs": false,
    "memoryGiB": 1152,
    "name": "ml.p4d.24xlarge",
    "vcpuNum": 96
   },
   {
    "_defaultOrder": 56,
    "_isFastLaunch": false,
    "category": "Accelerated computing",
    "gpuNum": 8,
    "hideHardwareSpecs": false,
    "memoryGiB": 1152,
    "name": "ml.p4de.24xlarge",
    "vcpuNum": 96
   },
   {
    "_defaultOrder": 57,
    "_isFastLaunch": false,
    "category": "Accelerated computing",
    "gpuNum": 0,
    "hideHardwareSpecs": false,
    "memoryGiB": 32,
    "name": "ml.trn1.2xlarge",
    "vcpuNum": 8
   },
   {
    "_defaultOrder": 58,
    "_isFastLaunch": false,
    "category": "Accelerated computing",
    "gpuNum": 0,
    "hideHardwareSpecs": false,
    "memoryGiB": 512,
    "name": "ml.trn1.32xlarge",
    "vcpuNum": 128
   },
   {
    "_defaultOrder": 59,
    "_isFastLaunch": false,
    "category": "Accelerated computing",
    "gpuNum": 0,
    "hideHardwareSpecs": false,
    "memoryGiB": 512,
    "name": "ml.trn1n.32xlarge",
    "vcpuNum": 128
   }
  ],
  "instance_type": "ml.m5.large",
  "kernelspec": {
   "display_name": "Python 3 (Data Science 3.0)",
   "language": "python",
   "name": "python3__SAGEMAKER_INTERNAL__arn:aws:sagemaker:eu-north-1:243637512696:image/sagemaker-data-science-310-v1"
  },
  "language_info": {
   "codemirror_mode": {
    "name": "ipython",
    "version": 3
   },
   "file_extension": ".py",
   "mimetype": "text/x-python",
   "name": "python",
   "nbconvert_exporter": "python",
   "pygments_lexer": "ipython3",
   "version": "3.10.6"
  }
 },
 "nbformat": 4,
 "nbformat_minor": 5
}
