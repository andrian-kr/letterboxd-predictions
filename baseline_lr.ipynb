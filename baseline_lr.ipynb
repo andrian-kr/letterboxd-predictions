{
 "cells": [
  {
   "cell_type": "code",
   "execution_count": 14,
   "id": "f19f3a46-b3e4-4b56-b85f-7e2ae96d2b26",
   "metadata": {},
   "outputs": [],
   "source": [
    "import pandas as pd\n",
    "import boto3\n",
    "from io import StringIO\n",
    "from sklearn.model_selection import train_test_split\n",
    "from sklearn.linear_model import LinearRegression\n",
    "import pickle\n",
    "from service.properties.secrets import AWS_ACCESS_KEY_ID, AWS_SECRET_ACCESS_KEY\n",
    "from service.properties.local_properties import BUCKET_NAME, REGION_NAME, DATA_KEY, MODEL_KEY"
   ]
  },
  {
   "cell_type": "markdown",
   "id": "1aec89bd",
   "metadata": {},
   "source": [
    "### Load dataset from Amazon S3"
   ]
  },
  {
   "cell_type": "code",
   "execution_count": 15,
   "id": "b6e5d9dc",
   "metadata": {},
   "outputs": [],
   "source": [
    "s3 = boto3.client(\n",
    "    's3',\n",
    "    aws_access_key_id=AWS_ACCESS_KEY_ID,\n",
    "    aws_secret_access_key=AWS_SECRET_ACCESS_KEY,\n",
    "    region_name=REGION_NAME\n",
    ")"
   ]
  },
  {
   "cell_type": "code",
   "execution_count": 16,
   "id": "c0784aab",
   "metadata": {},
   "outputs": [
    {
     "name": "stdout",
     "output_type": "stream",
     "text": [
      "<class 'pandas.core.frame.DataFrame'>\n",
      "RangeIndex: 720 entries, 0 to 719\n",
      "Data columns (total 12 columns):\n",
      " #   Column     Non-Null Count  Dtype  \n",
      "---  ------     --------------  -----  \n",
      " 0   Id         720 non-null    int64  \n",
      " 1   Title      720 non-null    object \n",
      " 2   Year       720 non-null    int64  \n",
      " 3   Rating     714 non-null    float64\n",
      " 4   Views      715 non-null    float64\n",
      " 5   Likes      715 non-null    float64\n",
      " 6   Minutes    720 non-null    int64  \n",
      " 7   Tagline    667 non-null    object \n",
      " 8   Language   720 non-null    object \n",
      " 9   Countries  720 non-null    object \n",
      " 10  Directors  720 non-null    object \n",
      " 11  Cast       720 non-null    object \n",
      "dtypes: float64(3), int64(3), object(6)\n",
      "memory usage: 67.6+ KB\n"
     ]
    }
   ],
   "source": [
    "obj = s3.get_object(Bucket=BUCKET_NAME, Key=DATA_KEY)\n",
    "string_data = obj['Body'].read().decode('utf-8')\n",
    "df = pd.read_csv(StringIO(string_data))\n",
    "df.info()"
   ]
  },
  {
   "cell_type": "markdown",
   "id": "9ad1a1ba",
   "metadata": {},
   "source": [
    "#### Preprocessing"
   ]
  },
  {
   "cell_type": "code",
   "execution_count": 7,
   "id": "577f06cf",
   "metadata": {},
   "outputs": [
    {
     "name": "stdout",
     "output_type": "stream",
     "text": [
      "<class 'pandas.core.frame.DataFrame'>\n",
      "Index: 713 entries, 0 to 719\n",
      "Data columns (total 6 columns):\n",
      " #   Column   Non-Null Count  Dtype  \n",
      "---  ------   --------------  -----  \n",
      " 0   Title    713 non-null    object \n",
      " 1   Year     713 non-null    int64  \n",
      " 2   Rating   713 non-null    float64\n",
      " 3   Views    713 non-null    int64  \n",
      " 4   Likes    713 non-null    int64  \n",
      " 5   Minutes  713 non-null    int64  \n",
      "dtypes: float64(1), int64(4), object(1)\n",
      "memory usage: 39.0+ KB\n"
     ]
    }
   ],
   "source": [
    "df_subset = df[['Title','Year','Rating','Views','Likes', 'Minutes']].dropna()\n",
    "df_subset['Views'] = df_subset['Views'].astype(int)\n",
    "df_subset['Likes'] = df_subset['Likes'].astype(int)\n",
    "df_subset.info()"
   ]
  },
  {
   "cell_type": "code",
   "execution_count": 8,
   "id": "2e2f94b4-954f-4a50-9a66-33934f84011c",
   "metadata": {},
   "outputs": [
    {
     "data": {
      "text/html": [
       "<div>\n",
       "<style scoped>\n",
       "    .dataframe tbody tr th:only-of-type {\n",
       "        vertical-align: middle;\n",
       "    }\n",
       "\n",
       "    .dataframe tbody tr th {\n",
       "        vertical-align: top;\n",
       "    }\n",
       "\n",
       "    .dataframe thead th {\n",
       "        text-align: right;\n",
       "    }\n",
       "</style>\n",
       "<table border=\"1\" class=\"dataframe\">\n",
       "  <thead>\n",
       "    <tr style=\"text-align: right;\">\n",
       "      <th></th>\n",
       "      <th>Title</th>\n",
       "      <th>Year</th>\n",
       "      <th>Rating</th>\n",
       "      <th>Views</th>\n",
       "      <th>Likes</th>\n",
       "      <th>Minutes</th>\n",
       "    </tr>\n",
       "  </thead>\n",
       "  <tbody>\n",
       "    <tr>\n",
       "      <th>0</th>\n",
       "      <td>Barbie</td>\n",
       "      <td>2023</td>\n",
       "      <td>3.9</td>\n",
       "      <td>3703904</td>\n",
       "      <td>1605943</td>\n",
       "      <td>114</td>\n",
       "    </tr>\n",
       "    <tr>\n",
       "      <th>1</th>\n",
       "      <td>Parasite</td>\n",
       "      <td>2019</td>\n",
       "      <td>4.6</td>\n",
       "      <td>3832192</td>\n",
       "      <td>2191347</td>\n",
       "      <td>133</td>\n",
       "    </tr>\n",
       "    <tr>\n",
       "      <th>2</th>\n",
       "      <td>Everything Everywhere All at Once</td>\n",
       "      <td>2022</td>\n",
       "      <td>4.3</td>\n",
       "      <td>2934908</td>\n",
       "      <td>1485981</td>\n",
       "      <td>140</td>\n",
       "    </tr>\n",
       "    <tr>\n",
       "      <th>3</th>\n",
       "      <td>Fight Club</td>\n",
       "      <td>1999</td>\n",
       "      <td>4.3</td>\n",
       "      <td>3763446</td>\n",
       "      <td>1737513</td>\n",
       "      <td>139</td>\n",
       "    </tr>\n",
       "    <tr>\n",
       "      <th>4</th>\n",
       "      <td>La La Land</td>\n",
       "      <td>2016</td>\n",
       "      <td>4.1</td>\n",
       "      <td>3231719</td>\n",
       "      <td>1439416</td>\n",
       "      <td>129</td>\n",
       "    </tr>\n",
       "  </tbody>\n",
       "</table>\n",
       "</div>"
      ],
      "text/plain": [
       "                               Title  Year  Rating    Views    Likes  Minutes\n",
       "0                             Barbie  2023     3.9  3703904  1605943      114\n",
       "1                           Parasite  2019     4.6  3832192  2191347      133\n",
       "2  Everything Everywhere All at Once  2022     4.3  2934908  1485981      140\n",
       "3                         Fight Club  1999     4.3  3763446  1737513      139\n",
       "4                         La La Land  2016     4.1  3231719  1439416      129"
      ]
     },
     "execution_count": 8,
     "metadata": {},
     "output_type": "execute_result"
    }
   ],
   "source": [
    "df_subset.head()"
   ]
  },
  {
   "cell_type": "code",
   "execution_count": 9,
   "id": "70aa845c-b921-40aa-810b-afa9a632a9e6",
   "metadata": {},
   "outputs": [],
   "source": [
    "X = df_subset[['Year','Views','Likes','Minutes']]\n",
    "y = df_subset['Rating']"
   ]
  },
  {
   "cell_type": "code",
   "execution_count": 10,
   "id": "162ba168-2407-4819-bfc4-4046f14f5699",
   "metadata": {},
   "outputs": [],
   "source": [
    "X_train, X_test, y_train, y_test = train_test_split(X, y, test_size=0.2, random_state=10)"
   ]
  },
  {
   "cell_type": "markdown",
   "id": "c2377881",
   "metadata": {},
   "source": [
    "### Train LR and upload pickle to Amazon S3"
   ]
  },
  {
   "cell_type": "code",
   "execution_count": 11,
   "id": "76ccb6a2-4d41-43da-9be5-dd2ab2b57d69",
   "metadata": {},
   "outputs": [
    {
     "data": {
      "text/plain": [
       "0.5797171085240502"
      ]
     },
     "execution_count": 11,
     "metadata": {},
     "output_type": "execute_result"
    }
   ],
   "source": [
    "lr=LinearRegression().fit(X_train, y_train)\n",
    "lr.score(X_test,y_test)"
   ]
  },
  {
   "cell_type": "code",
   "execution_count": 12,
   "id": "50e70a3f",
   "metadata": {},
   "outputs": [
    {
     "data": {
      "text/plain": [
       "{'ResponseMetadata': {'RequestId': 'RAGNMDXJDE35FM7W',\n",
       "  'HostId': 'MIkEGKSPA9s/ES7evJi70gj2kJjiP/TZHjqF6lQ6+uqqT5L7yb3aIyOOob7Z/XI54HiEzrw8fpA=',\n",
       "  'HTTPStatusCode': 200,\n",
       "  'HTTPHeaders': {'x-amz-id-2': 'MIkEGKSPA9s/ES7evJi70gj2kJjiP/TZHjqF6lQ6+uqqT5L7yb3aIyOOob7Z/XI54HiEzrw8fpA=',\n",
       "   'x-amz-request-id': 'RAGNMDXJDE35FM7W',\n",
       "   'date': 'Fri, 07 Jun 2024 15:00:43 GMT',\n",
       "   'x-amz-version-id': 't4dSad8Dpn_W6i128pkvGMXT_ugyqCTM',\n",
       "   'x-amz-server-side-encryption': 'AES256',\n",
       "   'etag': '\"0930c602651ca9034d5f385b069186a9\"',\n",
       "   'server': 'AmazonS3',\n",
       "   'content-length': '0'},\n",
       "  'RetryAttempts': 0},\n",
       " 'ETag': '\"0930c602651ca9034d5f385b069186a9\"',\n",
       " 'ServerSideEncryption': 'AES256',\n",
       " 'VersionId': 't4dSad8Dpn_W6i128pkvGMXT_ugyqCTM'}"
      ]
     },
     "execution_count": 12,
     "metadata": {},
     "output_type": "execute_result"
    }
   ],
   "source": [
    "serialized_model = pickle.dumps(lr)\n",
    "s3.put_object(Bucket=BUCKET_NAME, Key=MODEL_KEY, Body=serialized_model)"
   ]
  },
  {
   "cell_type": "markdown",
   "id": "93fb9915",
   "metadata": {},
   "source": [
    "#### Test predictions"
   ]
  },
  {
   "cell_type": "code",
   "execution_count": 76,
   "id": "4b7e4db1-5ce5-4234-96c1-dcbf06bff513",
   "metadata": {},
   "outputs": [
    {
     "data": {
      "text/plain": [
       "array([[   1990, 2337261,  550460,     103]])"
      ]
     },
     "execution_count": 76,
     "metadata": {},
     "output_type": "execute_result"
    }
   ],
   "source": [
    "X_test.iloc[-2].values.reshape(1, -1)"
   ]
  },
  {
   "cell_type": "code",
   "execution_count": 78,
   "id": "478ec8d0",
   "metadata": {},
   "outputs": [
    {
     "data": {
      "text/html": [
       "<div>\n",
       "<style scoped>\n",
       "    .dataframe tbody tr th:only-of-type {\n",
       "        vertical-align: middle;\n",
       "    }\n",
       "\n",
       "    .dataframe tbody tr th {\n",
       "        vertical-align: top;\n",
       "    }\n",
       "\n",
       "    .dataframe thead th {\n",
       "        text-align: right;\n",
       "    }\n",
       "</style>\n",
       "<table border=\"1\" class=\"dataframe\">\n",
       "  <thead>\n",
       "    <tr style=\"text-align: right;\">\n",
       "      <th></th>\n",
       "      <th>Id</th>\n",
       "      <th>Title</th>\n",
       "      <th>Year</th>\n",
       "      <th>Rating</th>\n",
       "      <th>Views</th>\n",
       "      <th>Likes</th>\n",
       "      <th>Minutes</th>\n",
       "      <th>Language</th>\n",
       "      <th>Countries</th>\n",
       "      <th>Directors</th>\n",
       "      <th>Cast</th>\n",
       "    </tr>\n",
       "  </thead>\n",
       "  <tbody>\n",
       "    <tr>\n",
       "      <th>153</th>\n",
       "      <td>51381</td>\n",
       "      <td>Home Alone</td>\n",
       "      <td>1990</td>\n",
       "      <td>3.8</td>\n",
       "      <td>2337261</td>\n",
       "      <td>550460</td>\n",
       "      <td>103</td>\n",
       "      <td>English</td>\n",
       "      <td>['USA']</td>\n",
       "      <td>['Chris Columbus']</td>\n",
       "      <td>['Macaulay Culkin', 'Joe Pesci', 'Daniel Stern...</td>\n",
       "    </tr>\n",
       "  </tbody>\n",
       "</table>\n",
       "</div>"
      ],
      "text/plain": [
       "        Id       Title  Year  Rating    Views   Likes  Minutes Language  \\\n",
       "153  51381  Home Alone  1990     3.8  2337261  550460      103  English   \n",
       "\n",
       "    Countries           Directors  \\\n",
       "153   ['USA']  ['Chris Columbus']   \n",
       "\n",
       "                                                  Cast  \n",
       "153  ['Macaulay Culkin', 'Joe Pesci', 'Daniel Stern...  "
      ]
     },
     "execution_count": 78,
     "metadata": {},
     "output_type": "execute_result"
    }
   ],
   "source": [
    "df[(df['Year'] == 1990) & (df['Views'] == 2337261)]"
   ]
  },
  {
   "cell_type": "code",
   "execution_count": 77,
   "id": "7f26ff21-63ad-47b8-a88d-5273a187124e",
   "metadata": {},
   "outputs": [
    {
     "data": {
      "text/plain": [
       "3.607636669378028"
      ]
     },
     "execution_count": 77,
     "metadata": {},
     "output_type": "execute_result"
    }
   ],
   "source": [
    "lr.predict(X_test)[-2]"
   ]
  },
  {
   "cell_type": "markdown",
   "id": "6e4195fa",
   "metadata": {},
   "source": [
    "##### LR model analysis (further work)"
   ]
  },
  {
   "cell_type": "code",
   "execution_count": 73,
   "id": "a2c84011-c9fc-4331-9741-d4d7604e02e6",
   "metadata": {},
   "outputs": [],
   "source": [
    "# import seaborn as sns\n",
    "# import statsmodels.api as sm\n",
    "# \n",
    "# X.corr()"
   ]
  },
  {
   "cell_type": "code",
   "execution_count": 74,
   "id": "ee127e13-2e22-4747-9bbf-d721305c99a6",
   "metadata": {},
   "outputs": [],
   "source": [
    "# sns.pairplot(X)"
   ]
  },
  {
   "cell_type": "code",
   "execution_count": 75,
   "id": "5e6135f8-09ba-4084-9fd6-99ad12997e3e",
   "metadata": {},
   "outputs": [],
   "source": [
    "# X_with_const = sm.add_constant(X_train)\n",
    "\n",
    "# model = sm.OLS(y_train, X_with_const).fit()\n",
    "# model.summary()"
   ]
  }
 ],
 "metadata": {
  "kernelspec": {
   "display_name": "Python 3 (ipykernel)",
   "language": "python",
   "name": "python3"
  },
  "language_info": {
   "codemirror_mode": {
    "name": "ipython",
    "version": 3
   },
   "file_extension": ".py",
   "mimetype": "text/x-python",
   "name": "python",
   "nbconvert_exporter": "python",
   "pygments_lexer": "ipython3",
   "version": "3.11.7"
  }
 },
 "nbformat": 4,
 "nbformat_minor": 5
}
